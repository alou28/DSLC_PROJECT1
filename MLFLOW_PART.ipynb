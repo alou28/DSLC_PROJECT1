{
 "cells": [
  {
   "cell_type": "markdown",
   "metadata": {},
   "source": [
    "# ML FLOW"
   ]
  },
  {
   "cell_type": "markdown",
   "metadata": {},
   "source": [
    "### We are going to use Random forest model for our ML FLOW "
   ]
  },
  {
   "cell_type": "code",
   "execution_count": 3,
   "metadata": {},
   "outputs": [],
   "source": [
    "def train_random(numb_est):\n",
    "    import mlflow\n",
    "    import mlflow.sklearn\n",
    "    from sklearn.metrics import accuracy_score\n",
    "    from sklearn.ensemble import RandomForestClassifier\n",
    "    from sklearn.metrics import roc_auc_score\n",
    "    import pandas as pd\n",
    "    from sklearn.metrics import accuracy_score\n",
    "    from sklearn.metrics import roc_auc_score\n",
    "    from sklearn.metrics import classification_report\n",
    "    from sklearn.ensemble import RandomForestClassifier\n",
    "    from sklearn.model_selection import train_test_split\n",
    "    \n",
    "    if int(numb_est) is None:\n",
    "        numb_est = 100\n",
    "    else:\n",
    "        numb_est = int(numb_est)\n",
    "        \n",
    "    data=pd.read_csv(\"mlflow_train.csv\")\n",
    "    \n",
    "    X=data.loc[:, data.columns != 'TARGET']\n",
    "    Y=data['TARGET']\n",
    "    X=X.drop(['SK_ID_CURR'],axis=1)\n",
    "    \n",
    "    X_train,X_test,Y_train,Y_test=train_test_split(X,Y,test_size=0.2,random_state=42)\n",
    "    \n",
    "    \n",
    "    with mlflow.start_run(run_name='random forest'):\n",
    "        \n",
    "        \n",
    "        RF = RandomForestClassifier(n_estimators = numb_est, random_state = 50, verbose = 1, n_jobs = -1,class_weight=\"balanced\")\n",
    "        RF.fit(X_train,Y_train)\n",
    "      \n",
    "        mlflow.xgboost.autolog()\n",
    "      \n",
    "        \n",
    "        y_pred_auc = RF.predict_proba(X_test)[:,1]\n",
    "        y_pred = RF.predict(X_test)\n",
    "        \n",
    "      \n",
    "       \n",
    "       \n",
    "        roc_auc = roc_auc_score(Y_test, y_pred_auc)*100\n",
    "        acc = accuracy_score(Y_test,y_pred)\n",
    "        \n",
    "        \n",
    "        mlflow.log_metric(\"auc_roc\",roc_auc)\n",
    "        mlflow.log_metric(\"accuracy_score\",acc)\n",
    "        \n",
    "       \n",
    "        \n",
    "       \n",
    "        mlflow.log_param('n_estimators', numb_est)\n",
    "        mlflow.log_param('random_state', 50)\n",
    "        mlflow.log_param('verbose', 1)\n",
    "        mlflow.log_param('n_jobs', -1)\n",
    "        mlflow.log_param('class_weight','balanced')\n",
    "        \n",
    "\n",
    "\n",
    "        # log model\n",
    "        mlflow.sklearn.log_model(RF, \"model\")\n",
    "        print(\"roc_auc\",roc_auc)\n",
    "        print(\"accuracy_score\",acc)"
   ]
  },
  {
   "cell_type": "code",
   "execution_count": 4,
   "metadata": {},
   "outputs": [
    {
     "name": "stderr",
     "output_type": "stream",
     "text": [
      "[Parallel(n_jobs=-1)]: Using backend ThreadingBackend with 8 concurrent workers.\n",
      "[Parallel(n_jobs=-1)]: Done  34 tasks      | elapsed:   16.3s\n",
      "[Parallel(n_jobs=-1)]: Done 100 out of 100 | elapsed:   42.5s finished\n",
      "[Parallel(n_jobs=8)]: Using backend ThreadingBackend with 8 concurrent workers.\n",
      "[Parallel(n_jobs=8)]: Done  34 tasks      | elapsed:    0.2s\n",
      "[Parallel(n_jobs=8)]: Done 100 out of 100 | elapsed:    0.8s finished\n",
      "[Parallel(n_jobs=8)]: Using backend ThreadingBackend with 8 concurrent workers.\n",
      "[Parallel(n_jobs=8)]: Done  34 tasks      | elapsed:    0.2s\n",
      "[Parallel(n_jobs=8)]: Done 100 out of 100 | elapsed:    0.8s finished\n"
     ]
    },
    {
     "name": "stdout",
     "output_type": "stream",
     "text": [
      "roc_auc 72.5281168838087\n",
      "accuracy_score 0.9196136773815912\n"
     ]
    }
   ],
   "source": [
    "train_random(100)"
   ]
  },
  {
   "cell_type": "code",
   "execution_count": null,
   "metadata": {},
   "outputs": [],
   "source": []
  }
 ],
 "metadata": {
  "kernelspec": {
   "display_name": "Python 3",
   "language": "python",
   "name": "python3"
  },
  "language_info": {
   "codemirror_mode": {
    "name": "ipython",
    "version": 3
   },
   "file_extension": ".py",
   "mimetype": "text/x-python",
   "name": "python",
   "nbconvert_exporter": "python",
   "pygments_lexer": "ipython3",
   "version": "3.8.5"
  }
 },
 "nbformat": 4,
 "nbformat_minor": 4
}
